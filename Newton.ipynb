{
  "nbformat": 4,
  "nbformat_minor": 0,
  "metadata": {
    "colab": {
      "provenance": [],
      "authorship_tag": "ABX9TyMTT2XtdIsHqhoawgkMeQOD",
      "include_colab_link": true
    },
    "kernelspec": {
      "name": "python3",
      "display_name": "Python 3"
    },
    "language_info": {
      "name": "python"
    }
  },
  "cells": [
    {
      "cell_type": "markdown",
      "metadata": {
        "id": "view-in-github",
        "colab_type": "text"
      },
      "source": [
        "<a href=\"https://colab.research.google.com/github/PedroAlves7/Newton/blob/main/Newton.ipynb\" target=\"_parent\"><img src=\"https://colab.research.google.com/assets/colab-badge.svg\" alt=\"Open In Colab\"/></a>"
      ]
    },
    {
      "cell_type": "code",
      "execution_count": null,
      "metadata": {
        "colab": {
          "base_uri": "https://localhost:8080/"
        },
        "id": "YdGXAAvwYrcC",
        "outputId": "018f0539-3f39-4a30-eff0-ad4cf604dd28"
      },
      "outputs": [
        {
          "output_type": "stream",
          "name": "stdout",
          "text": [
            "Solução encontrada em 6 iterações: [1.15671241e-16 3.00000000e+00]\n"
          ]
        }
      ],
      "source": [
        "import numpy as np\n",
        "\n",
        "# Definir a função f(x,y) e o jacobiano Jf(x,y)\n",
        "def f(x):\n",
        "    return np.array([x[0] + x[1] - 3, x[0]**2 + x[1]**2 - 9])\n",
        "\n",
        "def Jf(x):\n",
        "    return np.array([[1, 1], [2*x[0], 2*x[1]]])\n",
        "\n",
        "# Definir a aproximação inicial\n",
        "x0 = np.array([1, 5])\n",
        "\n",
        "# Definir o critério de parada\n",
        "tol = 1e-6\n",
        "max_iter = 20\n",
        "\n",
        "# Algoritmo de Newton\n",
        "for i in range(max_iter):\n",
        "# Calcular a matriz Jacobiana e a função avaliadas no ponto atual\n",
        "    J = Jf(x0)\n",
        "    fx0 = f(x0)\n",
        "\n",
        "# Resolver o sistema linear J*delta_x = -f(x0)\n",
        "    delta_x = np.linalg.solve(J, -fx0)\n",
        "\n",
        "# Atualizar o ponto\n",
        "    x1 = x0 + delta_x\n",
        "\n",
        "# Verificar o critério de parada\n",
        "    if np.linalg.norm(delta_x) < tol:\n",
        "        print(\"Solução encontrada em\", i+1, \"iterações:\", x1)\n",
        "        break\n",
        "\n",
        "# Atualizar o ponto inicial\n",
        "    x0 = x1\n",
        "\n",
        "else:\n",
        "    print(\"O método não convergiu em\", max_iter, \"iterações.\")"
      ]
    }
  ]
}